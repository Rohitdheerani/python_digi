{
 "cells": [
  {
   "cell_type": "markdown",
   "metadata": {},
   "source": []
  },
  {
   "cell_type": "code",
   "execution_count": 2,
   "metadata": {},
   "outputs": [],
   "source": [
    "import numpy as np"
   ]
  },
  {
   "cell_type": "code",
   "execution_count": 5,
   "metadata": {},
   "outputs": [
    {
     "data": {
      "text/plain": [
       "array([1, 2, 3, 4, 5])"
      ]
     },
     "execution_count": 5,
     "metadata": {},
     "output_type": "execute_result"
    }
   ],
   "source": [
    "np.array([1,2,3,4,5])"
   ]
  },
  {
   "cell_type": "code",
   "execution_count": 10,
   "metadata": {},
   "outputs": [
    {
     "name": "stdout",
     "output_type": "stream",
     "text": [
      "[2 3 5 1 2 4]\n",
      "total elements => (6,)\n",
      "dimension wise elements=> (6,)\n",
      "dimension count 1\n"
     ]
    }
   ],
   "source": [
    "\n",
    "\n",
    "\n",
    "x = np.array([2,3,5,1,2,4])\n",
    "print(x)\n",
    "print('total elements =>',x.shape)\n",
    "print('dimension wise elements=>',x.shape)\n",
    "print('dimension count',x.ndim)"
   ]
  },
  {
   "cell_type": "code",
   "execution_count": 11,
   "metadata": {},
   "outputs": [
    {
     "name": "stdout",
     "output_type": "stream",
     "text": [
      "[[2 3 5]\n",
      " [1 2 4]]\n",
      "total elements => (2, 3)\n",
      "dimension wise elements=> (2, 3)\n",
      "dimension count 2\n"
     ]
    }
   ],
   "source": [
    "y = np.array([[2,3,5],[1,2,4]])\n",
    "print(y)\n",
    "print('total elements =>',y.shape)\n",
    "print('dimension wise elements=>',y.shape)\n",
    "print('dimension count',y.ndim)"
   ]
  },
  {
   "cell_type": "code",
   "execution_count": 17,
   "metadata": {},
   "outputs": [
    {
     "name": "stdout",
     "output_type": "stream",
     "text": [
      "[[2 3 5]\n",
      " [1 2 4]\n",
      " [8 9 5]]\n",
      "total elements => 9\n",
      "dimension wise elements=> (3, 3)\n",
      "dimension count 2\n"
     ]
    }
   ],
   "source": [
    "z = np.array([[2,3,5],[1,2,4],[8,9,5]])\n",
    "print(z)\n",
    "print('total elements =>',z.size)\n",
    "print('dimension wise elements=>',z.shape)\n",
    "print('dimension count',z.ndim)"
   ]
  },
  {
   "cell_type": "code",
   "execution_count": null,
   "metadata": {},
   "outputs": [],
   "source": [
    "x=[1,2,3,4,5,6,7,8]\n",
    "z=np.array"
   ]
  }
 ],
 "metadata": {
  "kernelspec": {
   "display_name": "Python 3.9.13 ('base')",
   "language": "python",
   "name": "python3"
  },
  "language_info": {
   "codemirror_mode": {
    "name": "ipython",
    "version": 3
   },
   "file_extension": ".py",
   "mimetype": "text/x-python",
   "name": "python",
   "nbconvert_exporter": "python",
   "pygments_lexer": "ipython3",
   "version": "3.9.13"
  },
  "orig_nbformat": 4,
  "vscode": {
   "interpreter": {
    "hash": "b201294a609bc4c1e4b8450b7f8b906acae9ff793caa267441bdcb36c9b28b85"
   }
  }
 },
 "nbformat": 4,
 "nbformat_minor": 2
}
